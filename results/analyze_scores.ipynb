{
 "cells": [
  {
   "cell_type": "code",
   "execution_count": 1,
   "id": "c4a98f67",
   "metadata": {},
   "outputs": [],
   "source": [
    "import json\n",
    "import numpy as np\n",
    "\n",
    "from utils.analysis import save_pr_curves_plotly, save_roc_curves_plotly, remove_nan, get_roc_metrics, get_precision_recall_metrics, analyze"
   ]
  },
  {
   "cell_type": "markdown",
   "id": "542836a0-e226-4bb5-a3ee-4af3cf04b38d",
   "metadata": {},
   "source": [
    "## Helper functions - Gather results for a few different seeds (average the results)"
   ]
  },
  {
   "cell_type": "code",
   "execution_count": 2,
   "id": "023aca1d-63e5-4d06-8d88-c03364664c0b",
   "metadata": {},
   "outputs": [],
   "source": [
    "def build_result_files_with_seed(baseline_model, seed_path, weights, dataset_name, method, scores_folder_name, augmentations, human_augmentations):\n",
    "    aigc = {\n",
    "        f'claude3_{baseline_model}': f'{baseline_model}{seed_path}/{scores_folder_name}{augmentations}/{method}{weights}/{dataset_name}_claude3-haiku_scores.jsonl',\n",
    "        f'codellama7b_{baseline_model}': f'{baseline_model}{seed_path}/{scores_folder_name}{augmentations}/{method}{weights}/{dataset_name}_codellama_CodeLlama-7b-Instruct-hf_scores.jsonl',\n",
    "        f'codegemma7b_{baseline_model}': f'{baseline_model}{seed_path}/{scores_folder_name}{augmentations}/{method}{weights}/{dataset_name}_google_codegemma-7b-it_scores.jsonl',\n",
    "        f'gpt3.5_{baseline_model}': f'{baseline_model}{seed_path}/{scores_folder_name}{augmentations}/{method}{weights}/{dataset_name}_gpt-3.5-turbo_scores.jsonl',\n",
    "        f'gpt4o_mini_{baseline_model}': f'{baseline_model}{seed_path}/{scores_folder_name}{augmentations}/{method}{weights}/{dataset_name}_gpt-4o-mini_scores.jsonl',\n",
    "        f'codellama13b_{baseline_model}': f'{baseline_model}{seed_path}/{scores_folder_name}{augmentations}/{method}{weights}/{dataset_name}_codellama_CodeLlama-13b-Instruct-hf_scores.jsonl',\n",
    "        f'starchat_{baseline_model}': f'{baseline_model}{seed_path}/{scores_folder_name}{augmentations}/{method}{weights}/{dataset_name}_HuggingFaceH4_starchat-alpha_scores.jsonl',\n",
    "    }\n",
    "    if 'deepmind_code_contests' in dataset_name:\n",
    "        # either deepmind_code_contests_cpp or deepmind_code_contests_java, we replace it with deepmind_code_contests\n",
    "        human = f'{baseline_model}{seed_path}/{scores_folder_name}{human_augmentations}/{method}{weights}/deepmind_code_contests_human_scores.jsonl'    \n",
    "    else:\n",
    "        human = f'{baseline_model}{seed_path}/{scores_folder_name}{human_augmentations}/{method}{weights}/{dataset_name}_human_scores.jsonl'\n",
    "    return aigc, human\n",
    "\n",
    "def calculate_ensemble_auroc(baseline_model, dataset_name, weights, seeds, method='entropy', scores_folder_name='scores_infer_task', augmentations='', human_augmentations='', plot=False):\n",
    "    # Get relevant paths\n",
    "    aigcs_paths = {}\n",
    "    humans_paths = []\n",
    "    for seed_path in ['' if seed is None else f'_seed_{seed}' for seed in seeds]:\n",
    "        aigc, human = build_result_files_with_seed(baseline_model, seed_path, weights, dataset_name, method, scores_folder_name, augmentations, human_augmentations)\n",
    "        for k in aigc:\n",
    "            if k not in aigcs_paths:\n",
    "                aigcs_paths[k] = []\n",
    "            aigcs_paths[k].append(aigc[k])\n",
    "        humans_paths.append(human)\n",
    "    \n",
    "    # Load human scores from paths\n",
    "    human_scores = {}\n",
    "    aigcs_scores = {}\n",
    "    for human_path in humans_paths:\n",
    "        with open(human_path, 'r') as f:\n",
    "            data_lines = [json.loads(x) for x in f.readlines()]\n",
    "            for data_line in data_lines:\n",
    "                key = list(data_line.keys())[0]\n",
    "                if key not in human_scores:\n",
    "                    human_scores[key] = []\n",
    "                human_scores[key].append(data_line[key]['human_score'])\n",
    "    \n",
    "    # Load AIGC scores from paths\n",
    "    for exp in aigcs_paths:\n",
    "        aigcs_scores[exp] = {}\n",
    "        for aigc_path in aigcs_paths[exp]:\n",
    "            with open(aigc_path, 'r') as f:\n",
    "                data_lines = [json.loads(x) for x in f.readlines()]\n",
    "                for data_line in data_lines:\n",
    "                    key = list(data_line.keys())[0]\n",
    "                    if key not in aigcs_scores[exp]:\n",
    "                        aigcs_scores[exp][key] = []\n",
    "                    aigcs_scores[exp][key].append(data_line[key]['aigc_score'])\n",
    "    \n",
    "    # Mean the results\n",
    "    for key in human_scores:\n",
    "        human_scores[key] = np.mean(human_scores[key])\n",
    "    for exp in aigcs_scores:\n",
    "        for key in aigcs_scores[exp]:\n",
    "            aigcs_scores[exp][key] = np.mean(aigcs_scores[exp][key])\n",
    "    \n",
    "    # Compute final AUROC\n",
    "    raw_outputs = []\n",
    "    final_scores = {}\n",
    "    for exp_name in aigcs_scores:\n",
    "        output = analyze([v for _, v in human_scores.items()], [v for _, v in aigcs_scores[exp_name].items()], exp_name)\n",
    "        raw_outputs.append(output)\n",
    "        final_scores[exp_name] = {'roc_auc': output['metrics']['roc_auc'], 'num_nans': output['num_nans']}\n",
    "\n",
    "    if plot:\n",
    "        save_roc_curves_plotly(raw_outputs)\n",
    "        save_pr_curves_plotly(raw_outputs)\n",
    "    \n",
    "    return final_scores"
   ]
  },
  {
   "cell_type": "markdown",
   "id": "be191179-663d-499b-a08d-edb0564ae98a",
   "metadata": {},
   "source": [
    "## Calculate AUROC on the example score files"
   ]
  },
  {
   "cell_type": "code",
   "execution_count": 3,
   "id": "db0f4360-e401-470c-ba93-fa073ed66dd6",
   "metadata": {},
   "outputs": [],
   "source": [
    "# Example score files are under \"results/codellama13b_seed_*/scores_atc/entropy/comments_0_docstrings_0/*_scores.jsonl\"\n",
    "dataset_name = 'google-research-datasets_mbpp' \n",
    "weights = '/comments_0_docstrings_0'\n",
    "\n",
    "seeds = [142, 242, 342, 442]"
   ]
  },
  {
   "cell_type": "code",
   "execution_count": null,
   "id": "31381e49-41bd-4925-a183-b88011c1cf80",
   "metadata": {},
   "outputs": [],
   "source": [
    "import pandas as pd\n",
    "\n",
    "df_data = []\n",
    "nans = []\n",
    "for baseline_name, outputs in [\n",
    "        ('ATC - 1 Seed', calculate_ensemble_auroc(baseline_model='codellama13b', dataset_name=dataset_name, weights=weights, seeds=[seeds[0]], method='entropy', scores_folder_name='scores_atc', augmentations='', human_augmentations='')),\n",
    "        ('ATC - 2 Seeds', calculate_ensemble_auroc(baseline_model='codellama13b', dataset_name=dataset_name, weights=weights, seeds=seeds[:2], method='entropy', scores_folder_name='scores_atc', augmentations='', human_augmentations='')),\n",
    "        ('ATC - 3 Seeds', calculate_ensemble_auroc(baseline_model='codellama13b', dataset_name=dataset_name, weights=weights, seeds=seeds[:3], method='entropy', scores_folder_name='scores_atc', augmentations='', human_augmentations='')),\n",
    "        ('ATC - 4 Seeds', calculate_ensemble_auroc(baseline_model='codellama13b', dataset_name=dataset_name, weights=weights, seeds=seeds, method='entropy', scores_folder_name='scores_atc', augmentations='', human_augmentations='')),\n",
    "    ]:\n",
    "    for exp_name in outputs:\n",
    "        curr_data = {}\n",
    "        curr_data['baseline'] = baseline_name\n",
    "        curr_data['model'] = exp_name\n",
    "        curr_data['ROCAUC'] = outputs[exp_name]['roc_auc']\n",
    "        df_data.append(curr_data)\n",
    "        nans.append({'baseline': baseline_name, 'num_nans': outputs[exp_name]['num_nans'], 'model': exp_name})\n",
    "\n",
    "result_df = pd.DataFrame(df_data).pivot(index='baseline', columns='model', values='ROCAUC')\n",
    "result_df['avg'] = result_df.mean(axis=1)\n",
    "\n",
    "result_df.mul(100).round(2)"
   ]
  },
  {
   "cell_type": "markdown",
   "id": "d232f467-8cfa-4291-a82f-95e28c60fec3",
   "metadata": {},
   "source": [
    "## Plot ROC/PR Curves"
   ]
  },
  {
   "cell_type": "code",
   "execution_count": null,
   "id": "3a71c17b-6945-44f8-9a85-3a04986e5e28",
   "metadata": {},
   "outputs": [],
   "source": [
    "calculate_ensemble_auroc(baseline_model='codellama13b', dataset_name=dataset_name, weights=weights, seeds=seeds, method='entropy', scores_folder_name='scores_atc', augmentations='', human_augmentations='', plot=True)"
   ]
  }
 ],
 "metadata": {
  "kernelspec": {
   "display_name": "Python 3 (ipykernel)",
   "language": "python",
   "name": "python3"
  },
  "language_info": {
   "codemirror_mode": {
    "name": "ipython",
    "version": 3
   },
   "file_extension": ".py",
   "mimetype": "text/x-python",
   "name": "python",
   "nbconvert_exporter": "python",
   "pygments_lexer": "ipython3",
   "version": "3.8.20"
  }
 },
 "nbformat": 4,
 "nbformat_minor": 5
}
